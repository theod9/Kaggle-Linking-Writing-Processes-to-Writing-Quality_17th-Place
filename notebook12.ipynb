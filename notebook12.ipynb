{
 "cells": [
  {
   "cell_type": "code",
   "execution_count": 1,
   "id": "401c23da",
   "metadata": {
    "execution": {
     "iopub.execute_input": "2023-12-29T15:49:14.644274Z",
     "iopub.status.busy": "2023-12-29T15:49:14.643876Z",
     "iopub.status.idle": "2023-12-29T15:49:16.401939Z",
     "shell.execute_reply": "2023-12-29T15:49:16.400576Z"
    },
    "papermill": {
     "duration": 1.776113,
     "end_time": "2023-12-29T15:49:16.405045",
     "exception": false,
     "start_time": "2023-12-29T15:49:14.628932",
     "status": "completed"
    },
    "tags": []
   },
   "outputs": [],
   "source": [
    "import polars as pl\n",
    "import pandas as pd\n",
    "import numpy as np\n",
    "import warnings\n",
    "import pandas as pd\n",
    "warnings.filterwarnings(\"ignore\")\n",
    "pd.set_option('display.max_columns', None)\n",
    "from catboost import CatBoostRegressor\n",
    "from xgboost import XGBRegressor\n",
    "import lightgbm as lgb\n",
    "from sklearn.preprocessing import SplineTransformer\n",
    "from sklearn.linear_model import Ridge\n",
    "from sklearn.pipeline import make_pipeline\n",
    "from sklearn.ensemble import HistGradientBoostingRegressor\n",
    "from sklearn.feature_selection import SelectKBest, f_regression\n",
    "\n",
    "from preprocessing import count_by_values, dev_feats, reconstruct_essay, get_essay_df, word_feats, sent_feats \n",
    "from preprocessing import parag_feats, product_to_keys, get_keys_pressed_per_second, transform_and_clean_data, clean_column_names\n",
    "\n",
    "from model_pipeline import load_and_prepare_data, standardize_and_clean_data, feature_selection_and_scaling, train_and_predict, ensemble_predictions"
   ]
  },
  {
   "cell_type": "code",
   "execution_count": 2,
   "id": "3411f9ab",
   "metadata": {},
   "outputs": [
    {
     "ename": "FileNotFoundError",
     "evalue": "No such file or directory (os error 2): train_logs.csv",
     "output_type": "error",
     "traceback": [
      "\u001b[0;31m---------------------------------------------------------------------------\u001b[0m",
      "\u001b[0;31mFileNotFoundError\u001b[0m                         Traceback (most recent call last)",
      "Cell \u001b[0;32mIn[2], line 1\u001b[0m\n\u001b[0;32m----> 1\u001b[0m X \u001b[38;5;241m=\u001b[39m load_and_prepare_data(\u001b[38;5;124m\"\u001b[39m\u001b[38;5;124mtrain_logs.csv\u001b[39m\u001b[38;5;124m\"\u001b[39m)\n\u001b[1;32m      2\u001b[0m X\u001b[38;5;241m.\u001b[39mdrop(\u001b[38;5;124m'\u001b[39m\u001b[38;5;124mid\u001b[39m\u001b[38;5;124m'\u001b[39m,axis\u001b[38;5;241m=\u001b[39m\u001b[38;5;241m1\u001b[39m,inplace\u001b[38;5;241m=\u001b[39m\u001b[38;5;28;01mTrue\u001b[39;00m)\n",
      "File \u001b[0;32m~/Desktop/My Kaggle Solution 17/model_pipeline.py:13\u001b[0m, in \u001b[0;36mload_and_prepare_data\u001b[0;34m(file_path)\u001b[0m\n\u001b[1;32m     11\u001b[0m \u001b[38;5;28;01mdef\u001b[39;00m \u001b[38;5;21mload_and_prepare_data\u001b[39m(file_path):\n\u001b[1;32m     12\u001b[0m \u001b[38;5;250m    \u001b[39m\u001b[38;5;124;03m\"\"\"Load testing data and perform initial preprocessing.\"\"\"\u001b[39;00m\n\u001b[0;32m---> 13\u001b[0m     logs \u001b[38;5;241m=\u001b[39m pl\u001b[38;5;241m.\u001b[39mscan_csv(file_path)\n\u001b[1;32m     14\u001b[0m     features \u001b[38;5;241m=\u001b[39m dev_feats(logs)\u001b[38;5;241m.\u001b[39mcollect()\u001b[38;5;241m.\u001b[39mto_pandas()\n\u001b[1;32m     15\u001b[0m     logs \u001b[38;5;241m=\u001b[39m logs\u001b[38;5;241m.\u001b[39mcollect()\u001b[38;5;241m.\u001b[39mto_pandas()\n",
      "File \u001b[0;32m~/anaconda3/lib/python3.11/site-packages/polars/utils/deprecation.py:100\u001b[0m, in \u001b[0;36mdeprecate_renamed_parameter.<locals>.decorate.<locals>.wrapper\u001b[0;34m(*args, **kwargs)\u001b[0m\n\u001b[1;32m     95\u001b[0m \u001b[38;5;129m@wraps\u001b[39m(function)\n\u001b[1;32m     96\u001b[0m \u001b[38;5;28;01mdef\u001b[39;00m \u001b[38;5;21mwrapper\u001b[39m(\u001b[38;5;241m*\u001b[39margs: P\u001b[38;5;241m.\u001b[39margs, \u001b[38;5;241m*\u001b[39m\u001b[38;5;241m*\u001b[39mkwargs: P\u001b[38;5;241m.\u001b[39mkwargs) \u001b[38;5;241m-\u001b[39m\u001b[38;5;241m>\u001b[39m T:\n\u001b[1;32m     97\u001b[0m     _rename_keyword_argument(\n\u001b[1;32m     98\u001b[0m         old_name, new_name, kwargs, function\u001b[38;5;241m.\u001b[39m\u001b[38;5;18m__name__\u001b[39m, version\n\u001b[1;32m     99\u001b[0m     )\n\u001b[0;32m--> 100\u001b[0m     \u001b[38;5;28;01mreturn\u001b[39;00m function(\u001b[38;5;241m*\u001b[39margs, \u001b[38;5;241m*\u001b[39m\u001b[38;5;241m*\u001b[39mkwargs)\n",
      "File \u001b[0;32m~/anaconda3/lib/python3.11/site-packages/polars/io/csv/functions.py:919\u001b[0m, in \u001b[0;36mscan_csv\u001b[0;34m(source, has_header, separator, comment_prefix, quote_char, skip_rows, dtypes, schema, null_values, missing_utf8_is_empty_string, ignore_errors, cache, with_column_names, infer_schema_length, n_rows, encoding, low_memory, rechunk, skip_rows_after_header, row_count_name, row_count_offset, try_parse_dates, eol_char, new_columns, raise_if_empty, truncate_ragged_lines)\u001b[0m\n\u001b[1;32m    916\u001b[0m \u001b[38;5;28;01melse\u001b[39;00m:\n\u001b[1;32m    917\u001b[0m     source \u001b[38;5;241m=\u001b[39m [normalize_filepath(source) \u001b[38;5;28;01mfor\u001b[39;00m source \u001b[38;5;129;01min\u001b[39;00m source]\n\u001b[0;32m--> 919\u001b[0m \u001b[38;5;28;01mreturn\u001b[39;00m pl\u001b[38;5;241m.\u001b[39mLazyFrame\u001b[38;5;241m.\u001b[39m_scan_csv(\n\u001b[1;32m    920\u001b[0m     source,\n\u001b[1;32m    921\u001b[0m     has_header\u001b[38;5;241m=\u001b[39mhas_header,\n\u001b[1;32m    922\u001b[0m     separator\u001b[38;5;241m=\u001b[39mseparator,\n\u001b[1;32m    923\u001b[0m     comment_prefix\u001b[38;5;241m=\u001b[39mcomment_prefix,\n\u001b[1;32m    924\u001b[0m     quote_char\u001b[38;5;241m=\u001b[39mquote_char,\n\u001b[1;32m    925\u001b[0m     skip_rows\u001b[38;5;241m=\u001b[39mskip_rows,\n\u001b[1;32m    926\u001b[0m     dtypes\u001b[38;5;241m=\u001b[39mdtypes,  \u001b[38;5;66;03m# type: ignore[arg-type]\u001b[39;00m\n\u001b[1;32m    927\u001b[0m     schema\u001b[38;5;241m=\u001b[39mschema,\n\u001b[1;32m    928\u001b[0m     null_values\u001b[38;5;241m=\u001b[39mnull_values,\n\u001b[1;32m    929\u001b[0m     missing_utf8_is_empty_string\u001b[38;5;241m=\u001b[39mmissing_utf8_is_empty_string,\n\u001b[1;32m    930\u001b[0m     ignore_errors\u001b[38;5;241m=\u001b[39mignore_errors,\n\u001b[1;32m    931\u001b[0m     cache\u001b[38;5;241m=\u001b[39mcache,\n\u001b[1;32m    932\u001b[0m     with_column_names\u001b[38;5;241m=\u001b[39mwith_column_names,\n\u001b[1;32m    933\u001b[0m     infer_schema_length\u001b[38;5;241m=\u001b[39minfer_schema_length,\n\u001b[1;32m    934\u001b[0m     n_rows\u001b[38;5;241m=\u001b[39mn_rows,\n\u001b[1;32m    935\u001b[0m     low_memory\u001b[38;5;241m=\u001b[39mlow_memory,\n\u001b[1;32m    936\u001b[0m     rechunk\u001b[38;5;241m=\u001b[39mrechunk,\n\u001b[1;32m    937\u001b[0m     skip_rows_after_header\u001b[38;5;241m=\u001b[39mskip_rows_after_header,\n\u001b[1;32m    938\u001b[0m     encoding\u001b[38;5;241m=\u001b[39mencoding,\n\u001b[1;32m    939\u001b[0m     row_count_name\u001b[38;5;241m=\u001b[39mrow_count_name,\n\u001b[1;32m    940\u001b[0m     row_count_offset\u001b[38;5;241m=\u001b[39mrow_count_offset,\n\u001b[1;32m    941\u001b[0m     try_parse_dates\u001b[38;5;241m=\u001b[39mtry_parse_dates,\n\u001b[1;32m    942\u001b[0m     eol_char\u001b[38;5;241m=\u001b[39meol_char,\n\u001b[1;32m    943\u001b[0m     raise_if_empty\u001b[38;5;241m=\u001b[39mraise_if_empty,\n\u001b[1;32m    944\u001b[0m     truncate_ragged_lines\u001b[38;5;241m=\u001b[39mtruncate_ragged_lines,\n\u001b[1;32m    945\u001b[0m )\n",
      "File \u001b[0;32m~/anaconda3/lib/python3.11/site-packages/polars/lazyframe/frame.py:373\u001b[0m, in \u001b[0;36mLazyFrame._scan_csv\u001b[0;34m(cls, source, has_header, separator, comment_prefix, quote_char, skip_rows, dtypes, schema, null_values, missing_utf8_is_empty_string, ignore_errors, cache, with_column_names, infer_schema_length, n_rows, encoding, low_memory, rechunk, skip_rows_after_header, row_count_name, row_count_offset, try_parse_dates, eol_char, raise_if_empty, truncate_ragged_lines)\u001b[0m\n\u001b[1;32m    370\u001b[0m     sources \u001b[38;5;241m=\u001b[39m []  \u001b[38;5;66;03m# type: ignore[assignment]\u001b[39;00m\n\u001b[1;32m    372\u001b[0m \u001b[38;5;28mself\u001b[39m \u001b[38;5;241m=\u001b[39m \u001b[38;5;28mcls\u001b[39m\u001b[38;5;241m.\u001b[39m\u001b[38;5;21m__new__\u001b[39m(\u001b[38;5;28mcls\u001b[39m)\n\u001b[0;32m--> 373\u001b[0m \u001b[38;5;28mself\u001b[39m\u001b[38;5;241m.\u001b[39m_ldf \u001b[38;5;241m=\u001b[39m PyLazyFrame\u001b[38;5;241m.\u001b[39mnew_from_csv(\n\u001b[1;32m    374\u001b[0m     source,\n\u001b[1;32m    375\u001b[0m     sources,\n\u001b[1;32m    376\u001b[0m     separator,\n\u001b[1;32m    377\u001b[0m     has_header,\n\u001b[1;32m    378\u001b[0m     ignore_errors,\n\u001b[1;32m    379\u001b[0m     skip_rows,\n\u001b[1;32m    380\u001b[0m     n_rows,\n\u001b[1;32m    381\u001b[0m     cache,\n\u001b[1;32m    382\u001b[0m     dtype_list,\n\u001b[1;32m    383\u001b[0m     low_memory,\n\u001b[1;32m    384\u001b[0m     comment_prefix,\n\u001b[1;32m    385\u001b[0m     quote_char,\n\u001b[1;32m    386\u001b[0m     processed_null_values,\n\u001b[1;32m    387\u001b[0m     missing_utf8_is_empty_string,\n\u001b[1;32m    388\u001b[0m     infer_schema_length,\n\u001b[1;32m    389\u001b[0m     with_column_names,\n\u001b[1;32m    390\u001b[0m     rechunk,\n\u001b[1;32m    391\u001b[0m     skip_rows_after_header,\n\u001b[1;32m    392\u001b[0m     encoding,\n\u001b[1;32m    393\u001b[0m     _prepare_row_count_args(row_count_name, row_count_offset),\n\u001b[1;32m    394\u001b[0m     try_parse_dates,\n\u001b[1;32m    395\u001b[0m     eol_char\u001b[38;5;241m=\u001b[39meol_char,\n\u001b[1;32m    396\u001b[0m     raise_if_empty\u001b[38;5;241m=\u001b[39mraise_if_empty,\n\u001b[1;32m    397\u001b[0m     truncate_ragged_lines\u001b[38;5;241m=\u001b[39mtruncate_ragged_lines,\n\u001b[1;32m    398\u001b[0m     schema\u001b[38;5;241m=\u001b[39mschema,\n\u001b[1;32m    399\u001b[0m )\n\u001b[1;32m    400\u001b[0m \u001b[38;5;28;01mreturn\u001b[39;00m \u001b[38;5;28mself\u001b[39m\n",
      "\u001b[0;31mFileNotFoundError\u001b[0m: No such file or directory (os error 2): train_logs.csv"
     ]
    }
   ],
   "source": [
    "X = load_and_prepare_data(\"train_logs.csv\")\n",
    "X.drop('id',axis=1,inplace=True)"
   ]
  },
  {
   "cell_type": "code",
   "execution_count": 3,
   "id": "31fad550",
   "metadata": {},
   "outputs": [
    {
     "name": "stdout",
     "output_type": "stream",
     "text": [
      "< Count by values features >\n",
      "< Input words stats features >\n",
      "< Numerical columns features >\n",
      "< Categorical columns features >\n",
      "< Idle time features >\n",
      "< P-bursts features >\n",
      "< R-bursts features >\n"
     ]
    }
   ],
   "source": [
    "X_test = load_and_prepare_data(\"test_logs.csv\")\n",
    "#X.drop('id',axis=1,inplace=True)\n",
    "X_test.set_index('id', inplace=True)"
   ]
  },
  {
   "cell_type": "code",
   "execution_count": 4,
   "id": "b82cc134",
   "metadata": {
    "execution": {
     "iopub.execute_input": "2023-12-29T15:49:16.776733Z",
     "iopub.status.busy": "2023-12-29T15:49:16.775299Z",
     "iopub.status.idle": "2023-12-29T15:49:16.782539Z",
     "shell.execute_reply": "2023-12-29T15:49:16.781109Z"
    },
    "papermill": {
     "duration": 0.023207,
     "end_time": "2023-12-29T15:49:16.785302",
     "exception": false,
     "start_time": "2023-12-29T15:49:16.762095",
     "status": "completed"
    },
    "tags": []
   },
   "outputs": [],
   "source": [
    "train_scores   = pd.read_csv('train_scores.csv',index_col='id')\n",
    "y = pd.Series(train_scores['score'])\n"
   ]
  },
  {
   "cell_type": "code",
   "execution_count": 5,
   "id": "63c02f10",
   "metadata": {},
   "outputs": [],
   "source": [
    "X_tran, X_test_tran  = standardize_and_clean_data(X, X_test)"
   ]
  },
  {
   "cell_type": "code",
   "execution_count": 6,
   "id": "1d4ab94d",
   "metadata": {},
   "outputs": [],
   "source": [
    "from sklearn.feature_selection import SelectKBest, f_regression\n",
    "\n",
    "selector = SelectKBest(score_func=f_regression, k=140)\n",
    "\n",
    "selector.fit(X_tran, y)\n",
    "\n",
    "X_tran_sel = X_tran.iloc[:,selector.get_support()]\n",
    "X_test_tran_sel = X_test_tran.iloc[:,selector.get_support()]"
   ]
  },
  {
   "cell_type": "code",
   "execution_count": 7,
   "id": "88d5b396",
   "metadata": {},
   "outputs": [
    {
     "name": "stdout",
     "output_type": "stream",
     "text": [
      "[LightGBM] [Info] Auto-choosing col-wise multi-threading, the overhead of testing was 0.002062 seconds.\n",
      "You can set `force_col_wise=true` to remove the overhead.\n",
      "[LightGBM] [Info] Total Bins 22966\n",
      "[LightGBM] [Info] Number of data points in the train set: 2471, number of used features: 137\n",
      "[LightGBM] [Info] Start training from score 3.711251\n"
     ]
    }
   ],
   "source": [
    "# Dictionary to hold all parameters for each model\n",
    "model_params = {\n",
    "    'catboost': {'loss_function': 'RMSE', 'eval_metric': 'RMSE', 'verbose': False, 'random_state': 42},\n",
    "    'xgb1': {'n_estimators': 250, 'learning_rate': 0.0346, 'max_depth': 3, 'min_child_weight': 18, 'subsample': 0.7,\n",
    "             'colsample_bytree': 0.5, 'gamma': 0.0, 'reg_alpha': 1.0, 'reg_lambda': 1.0, 'eval_metric': 'rmse', 'random_state': 0},\n",
    "    'xgb2': {'n_estimators': 300, 'learning_rate': 0.0226, 'max_depth': 4, 'min_child_weight': 9, 'subsample': 0.3,\n",
    "             'colsample_bytree': 0.7, 'gamma': 0.8, 'reg_alpha': 0.3, 'reg_lambda': 0.6, 'eval_metric': 'rmse', 'random_state': 0},\n",
    "    'lgbm1': {'n_estimators': 600, 'learning_rate': 0.018, 'max_depth': 13, 'min_child_samples': 18, 'subsample': 0.8,\n",
    "              'colsample_bytree': 0.2, 'min_split_gain': 0.0, 'reg_alpha': 0.5, 'reg_lambda': 0.8, 'num_leaves': 20,\n",
    "              'metric': 'rmse', 'random_state': 0},\n",
    "    'lgbm2': {'n_estimators': 583, 'learning_rate': 0.029, 'max_depth': 28, 'min_child_samples': 9, 'subsample': 0.5,\n",
    "              'colsample_bytree': 0.3, 'min_split_gain': 0.6, 'reg_alpha': 0.7, 'reg_lambda': 0.6, 'num_leaves': 25,\n",
    "              'metric': 'rmse', 'random_state': 0},\n",
    "    'hbc1': {'learning_rate': 0.063, 'max_leaf_nodes': 8, 'l2_regularization': 0.9, 'min_samples_leaf': 100, 'random_state': 0},\n",
    "    'hbc2': {'learning_rate': 0.1, 'max_leaf_nodes': 6, 'l2_regularization': 1.1, 'min_samples_leaf': 60, 'random_state': 0}\n",
    "}\n",
    "\n",
    "# Dictionary to hold all models\n",
    "models = {\n",
    "    'catboost': CatBoostRegressor(**model_params['catboost']),\n",
    "    'xgb1': XGBRegressor(**model_params['xgb1']),\n",
    "    #'xgb2': XGBRegressor(**model_params['xgb2']),\n",
    "    'lgbm1': lgb.LGBMRegressor(**model_params['lgbm1']),\n",
    "    #'lgbm2': lgb.LGBMRegressor(**model_params['lgbm2']),\n",
    "    'hbc1': HistGradientBoostingRegressor(**model_params['hbc1']),\n",
    "    'hbc2': HistGradientBoostingRegressor(**model_params['hbc2']),\n",
    "    'lr1': make_pipeline(SplineTransformer(n_knots=6, degree=2), Ridge(alpha=30, random_state=0)),\n",
    "    'lr2': make_pipeline(SplineTransformer(n_knots=8, degree=4), Ridge(alpha=40, random_state=0))\n",
    "}\n",
    "\n",
    "preds = train_and_predict(models, X_tran_sel, y, X_test_tran_sel)"
   ]
  },
  {
   "cell_type": "code",
   "execution_count": 8,
   "id": "7be003ae",
   "metadata": {},
   "outputs": [
    {
     "data": {
      "text/plain": [
       "{'catboost': array([2.61826262, 1.72108024, 1.70920116]),\n",
       " 'xgb1': array([2.5512607, 1.2050683, 1.2050683], dtype=float32),\n",
       " 'lgbm1': array([2.22804749, 1.26079379, 1.23883937]),\n",
       " 'hbc1': array([3.0318293 , 1.55310584, 1.55310584]),\n",
       " 'hbc2': array([2.86101734, 1.41710087, 1.41710087]),\n",
       " 'lr1': array([2.01602765, 0.85207613, 0.98065527]),\n",
       " 'lr2': array([2.18168536, 1.19012165, 1.29655884])}"
      ]
     },
     "execution_count": 8,
     "metadata": {},
     "output_type": "execute_result"
    }
   ],
   "source": [
    "preds"
   ]
  },
  {
   "cell_type": "code",
   "execution_count": 9,
   "id": "159f144b",
   "metadata": {},
   "outputs": [
    {
     "data": {
      "text/plain": [
       "array([2.49143223, 1.33382567, 1.3446852 ])"
      ]
     },
     "execution_count": 9,
     "metadata": {},
     "output_type": "execute_result"
    }
   ],
   "source": [
    "# Ensemble predictions\n",
    "weights = [0.2, 0.3, 0.2, 0.075, 0.075, 0.075, 0.075]\n",
    "final_prediction = ensemble_predictions(preds, weights)\n",
    "\n",
    "final_prediction"
   ]
  },
  {
   "cell_type": "code",
   "execution_count": 10,
   "id": "9f5d859a",
   "metadata": {},
   "outputs": [],
   "source": [
    "test_ids = X_test.index"
   ]
  },
  {
   "cell_type": "code",
   "execution_count": 13,
   "id": "d57d94dd",
   "metadata": {},
   "outputs": [],
   "source": [
    "sub = pd.DataFrame({'id': test_ids, 'score': final_prediction})\n",
    "sub.to_csv('submission.csv', index=False)"
   ]
  },
  {
   "cell_type": "code",
   "execution_count": null,
   "id": "ee1eaf17",
   "metadata": {},
   "outputs": [],
   "source": []
  }
 ],
 "metadata": {
  "kaggle": {
   "accelerator": "none",
   "dataSources": [
    {
     "databundleVersionId": 6678907,
     "sourceId": 59291,
     "sourceType": "competition"
    },
    {
     "datasetId": 4213670,
     "sourceId": 7268960,
     "sourceType": "datasetVersion"
    },
    {
     "datasetId": 4236695,
     "sourceId": 7302631,
     "sourceType": "datasetVersion"
    }
   ],
   "dockerImageVersionId": 30626,
   "isGpuEnabled": false,
   "isInternetEnabled": false,
   "language": "python",
   "sourceType": "notebook"
  },
  "kernelspec": {
   "display_name": "Python 3",
   "language": "python",
   "name": "python3"
  },
  "language_info": {
   "codemirror_mode": {
    "name": "ipython",
    "version": 3
   },
   "file_extension": ".py",
   "mimetype": "text/x-python",
   "name": "python",
   "nbconvert_exporter": "python",
   "pygments_lexer": "ipython3",
   "version": "3.11.3"
  },
  "papermill": {
   "default_parameters": {},
   "duration": 12.195934,
   "end_time": "2023-12-29T15:49:23.315467",
   "environment_variables": {},
   "exception": null,
   "input_path": "__notebook__.ipynb",
   "output_path": "__notebook__.ipynb",
   "parameters": {},
   "start_time": "2023-12-29T15:49:11.119533",
   "version": "2.4.0"
  }
 },
 "nbformat": 4,
 "nbformat_minor": 5
}
